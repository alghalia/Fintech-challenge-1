{
 "cells": [
  {
   "cell_type": "code",
   "execution_count": 4,
   "id": "919031ff-09e5-4110-921d-95ebc9edc663",
   "metadata": {},
   "outputs": [
    {
     "name": "stdout",
     "output_type": "stream",
     "text": [
      "The total number of loans from the list= 5\n"
     ]
    }
   ],
   "source": [
    "loan_costs = [500, 600, 200, 1000, 450]\n",
    "# Print the number of loans from the list\n",
    "print(\"The total number of loans from the list =\",(len(loan_costs)))"
   ]
  },
  {
   "cell_type": "code",
   "execution_count": 7,
   "id": "a1454341-c29c-4bf2-9f44-fcb0a91783e9",
   "metadata": {},
   "outputs": [
    {
     "name": "stdout",
     "output_type": "stream",
     "text": [
      "the total value of the loans= 2750\n"
     ]
    }
   ],
   "source": [
    "# Print the total value of the loans\n",
    "\n",
    "print(\"the total value of the loans =\",(sum(loan_costs)))\n"
   ]
  },
  {
   "cell_type": "code",
   "execution_count": 8,
   "id": "9dcb0046-e0ff-422a-b23f-04ac1238fcb5",
   "metadata": {},
   "outputs": [
    {
     "name": "stdout",
     "output_type": "stream",
     "text": [
      "The average loan amount = 550.0\n"
     ]
    }
   ],
   "source": [
    "# Print the average loan amount\n",
    "def average(loan_costs):\n",
    "    avg = sum(loan_costs)/len(loan_costs)\n",
    "    return avg\n",
    "\n",
    "loan_costs = [500, 600, 200, 1000, 450]\n",
    "average = average(loan_costs)\n",
    "print(\"The average loan amount =\",average)"
   ]
  },
  {
   "cell_type": "code",
   "execution_count": 27,
   "id": "3d22f383-28ae-4a38-ac0c-04f7d3242fb0",
   "metadata": {},
   "outputs": [
    {
     "name": "stdout",
     "output_type": "stream",
     "text": [
      "1000\n",
      "9\n"
     ]
    }
   ],
   "source": [
    "loan = {\n",
    "    \"loan_price\": 500,\n",
    "    \"remaining_months\": 9,\n",
    "    \"repayment_interval\": \"bullet\",\n",
    "    \"future_value\": 1000,\n",
    "}\n",
    "# @TODO: Use get() on the dictionary of additional information to extract the Future Value and Remaining Months on the loan.\n",
    "# Print each variable.\n",
    "future_value=loan.get(\"future_value\")\n",
    "print(future_value)\n",
    "remaining_months=loan.get(\"remaining_months\")\n",
    "print(remaining_months)\n"
   ]
  },
  {
   "cell_type": "code",
   "execution_count": 47,
   "id": "0837ad1f-6da7-481c-82e8-8e7183422bf3",
   "metadata": {},
   "outputs": [
    {
     "name": "stdout",
     "output_type": "stream",
     "text": [
      "862\n"
     ]
    }
   ],
   "source": [
    "# Present Value = Future Value / (1 + Discount_Rate/12) ** remaining_months\n",
    "Annual_Discount_Rate=.20\n",
    "present_value =(future_value/(1+Annual_Discount_Rate/12)**remaining_months)\n",
    "print(round(present_value))"
   ]
  },
  {
   "cell_type": "code",
   "execution_count": 68,
   "id": "15d268f8-6f33-4d9b-a872-61a551e0b34c",
   "metadata": {},
   "outputs": [
    {
     "name": "stdout",
     "output_type": "stream",
     "text": [
      "the loan is worth at least the cost to buy it\n"
     ]
    }
   ],
   "source": [
    "# @TODO: Write a conditional statement (an if-else statement) to decide if the present value represents the loan's fair value.\n",
    "#    If the present value of the loan is greater than or equal to the cost, then print a message that says the loan is worth at least the cost to buy it.\n",
    "#    Else, the present value of the loan is less than the loan cost, then print a message that says that the loan is too expensive and not worth the price.\n",
    "\n",
    "if present_value >= 500:\n",
    "    print(\"the loan is worth at least the cost to buy it\")\n",
    "\n",
    "else:\n",
    "    print(\"loan is too expensive and not worth the price\")"
   ]
  },
  {
   "cell_type": "code",
   "execution_count": 5,
   "id": "442c0267-dfd2-4fa6-a57b-18627776b688",
   "metadata": {},
   "outputs": [
    {
     "name": "stdout",
     "output_type": "stream",
     "text": [
      "820.0814425978174\n",
      "The present value of the loan is:820\n"
     ]
    }
   ],
   "source": [
    "# @TODO: Define a new function that will be used to calculate present value.\n",
    "#    This function should include parameters for `future_value`, `remaining_months`, and the `annual_discount_rate`\n",
    "#    The function should return the `present_value` for the loan.\n",
    "\n",
    "new_loan = {\n",
    "    \"loan_price\": 800,\n",
    "    \"remaining_months\": 12,\n",
    "    \"repayment_interval\": \"bullet\",\n",
    "    \"future_value\": 1000,\n",
    "}\n",
    "\n",
    "def calculate_present_value(future_value,remaining_months,annual_discount_rate):\n",
    "    present_value =(future_value/(1+annual_discount_rate/12)**remaining_months)\n",
    "    return(present_value)\n",
    "\n",
    "# @TODO: Use the formula for Present Value to calculate a \"fair value\" of the loan.\n",
    "    \n",
    "annual_discount_rate = 0.20    \n",
    "present_value = calculate_present_value(\n",
    "    new_loan[\"future_value\"],\n",
    "    new_loan[\"remaining_months\"],\n",
    "    annual_discount_rate)\n",
    "print(f\"The present value of the loan is:{round(present_value)}\")\n",
    "\n",
    "    "
   ]
  },
  {
   "cell_type": "code",
   "execution_count": 654,
   "id": "bc10e5b2-eae4-46dc-aeb4-2a37153411a5",
   "metadata": {},
   "outputs": [
    {
     "name": "stdout",
     "output_type": "stream",
     "text": [
      "[{'loan_price': 500, 'remaining_months': 13, 'repayment_interval': 'bullet', 'future_value': 1000}, {'loan_price': 200, 'remaining_months': 16, 'repayment_interval': 'bullet', 'future_value': 1000}]\n"
     ]
    }
   ],
   "source": [
    "# If Present Value represents what the loan is really worth, does it make sense to buy the loan at its cost?\n",
    "# @TODO: Write a conditional statement (an if-else statement) to decide if the present value represents the loan's fair value.\n",
    "#    If the present value of the loan is greater than or equal to the cost, then print a message that says the loan is worth at least the cost to buy it.\n",
    "#    Else, the present value of the loan is less than the loan cost, then print a message that says that the loan is too expensive and not worth the price.\n",
    "# YOUR CODE HERE!\n",
    "\n",
    "loans = [\n",
    "    {\n",
    "        \"loan_price\": 700,\n",
    "        \"remaining_months\": 9,\n",
    "        \"repayment_interval\": \"monthly\",\n",
    "        \"future_value\": 1000,\n",
    "    },\n",
    "    {\n",
    "        \"loan_price\": 500,\n",
    "        \"remaining_months\": 13,\n",
    "        \"repayment_interval\": \"bullet\",\n",
    "        \"future_value\": 1000,\n",
    "    },\n",
    "    {\n",
    "        \"loan_price\": 200,\n",
    "        \"remaining_months\": 16,\n",
    "        \"repayment_interval\": \"bullet\",\n",
    "        \"future_value\": 1000,\n",
    "    },\n",
    "    {\n",
    "        \"loan_price\": 900,\n",
    "        \"remaining_months\": 16,\n",
    "        \"repayment_interval\": \"bullet\",\n",
    "        \"future_value\": 1000,\n",
    "    },\n",
    "]\n",
    "\n",
    "# @TODO: Create an empty list called `inexpensive_loans`\n",
    "inexpensive_loans = [] \n",
    "# @TODO: Loop through all the loans and append any that cost $500 or less to the `inexpensive_loans` list\n",
    "for loan_price in loans:     \n",
    "    if (loan_price['loan_price']) <= 500:\n",
    "        inexpensive_loans.append(loan_price)\n",
    "        # @TODO: Print the `inexpensive_loans` list\n",
    "print(inexpensive_loans)\n"
   ]
  },
  {
   "cell_type": "code",
   "execution_count": 9,
   "id": "b391cdab-48b2-4964-83fb-0624e20255c8",
   "metadata": {},
   "outputs": [],
   "source": [
    "import csv\n",
    "from pathlib import Path\n",
    "\n",
    "inexpensive_loans = [\n",
    "    {'loan_price': 500, \n",
    "     'remaining_months': 13,\n",
    "     'repayment_interval': 'bullet',\n",
    "     'future_value': 1000}, \n",
    "    \n",
    "    {'loan_price': 200,\n",
    "     'remaining_months': 16,\n",
    "     'repayment_interval': 'bullet',\n",
    "     'future_value': 1000}\n",
    "\n",
    "]\n",
    "\n",
    "header = [\"loan_price\", \"remaining_months\", \"repayment_interval\", \"future_value\"]\n",
    "\n",
    "output_path = Path(\"inexpensive_loans.csv\")\n",
    "\n",
    "with open(output_path, 'w', newline='') as csvfile:\n",
    "    csvwriter = csv.writer(csvfile)\n",
    "\n",
    "# @TODO: Use the csv library and `csv.writer` to write the header row\n",
    "    csvwriter.writerow(header)\n",
    "\n",
    "# and each row of `loan.values()` from the `inexpensive_loans` list.\n",
    "    for row in inexpensive_loans:\n",
    "        csvwriter.writerow(row.values())\n",
    "   "
   ]
  }
 ],
 "metadata": {
  "kernelspec": {
   "display_name": "Python 3 (ipykernel)",
   "language": "python",
   "name": "python3"
  },
  "language_info": {
   "codemirror_mode": {
    "name": "ipython",
    "version": 3
   },
   "file_extension": ".py",
   "mimetype": "text/x-python",
   "name": "python",
   "nbconvert_exporter": "python",
   "pygments_lexer": "ipython3",
   "version": "3.9.13"
  }
 },
 "nbformat": 4,
 "nbformat_minor": 5
}
